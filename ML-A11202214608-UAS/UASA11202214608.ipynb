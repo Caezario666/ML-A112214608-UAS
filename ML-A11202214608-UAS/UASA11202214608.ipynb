{
 "cells": [
  {
   "cell_type": "markdown",
   "metadata": {},
   "source": [
    "# Memprediksi Pergerakan Harga Emas Menggunakan LSTM"
   ]
  },
  {
   "cell_type": "markdown",
   "metadata": {},
   "source": [
    "### Nama: Caezario Rafie Anggara Ziyadatullah\n",
    "### NIM: A11.2022.14608"
   ]
  },
  {
   "cell_type": "markdown",
   "metadata": {},
   "source": [
    "---"
   ]
  },
  {
   "cell_type": "markdown",
   "metadata": {},
   "source": [
    "## Ringkasan dan Permasalahan Project\n",
    "\n",
    "Harga emas merupakan salah satu instrumen investasi yang sangat penting dan sering dipilih sebagai aset aman saat ketidakpastian ekonomi meningkat. Fluktuasi harga emas dipengaruhi oleh berbagai faktor ekonomi dan geopolitik yang kompleks. Oleh karena itu, memprediksi pergerakan harga emas dengan akurat sangat penting bagi investor.\n",
    "\n",
    "### Tujuan\n",
    "Penelitian ini bertujuan untuk mengembangkan dan menguji model Long Short-Term Memory (LSTM) dalam memprediksi pergerakan harga emas. Model LSTM akan diterapkan pada data historis harga emas untuk menilai kemampuannya dalam memprediksi tren harga di masa depan. Selain itu, penelitian ini juga bertujuan untuk membandingkan akurasi prediksi model LSTM dengan metode prediksi tradisional lainnya dan menganalisis faktor-faktor yang mempengaruhi kinerja model tersebut.\n",
    "\n",
    "### Dataset\n",
    "Dataset yang digunakan dapat diunduh dari [Kaggle Gold Price Prediction Dataset](https://www.kaggle.com/datasets/farzadnekouei/gold-price-prediction-lstm-96-accuracy). File ini berisi data historis harga emas yang terdiri dari fitur-fitur berikut:\n",
    "- **Date:** Tanggal\n",
    "- **Price:** Harga\n",
    "- **Open:** Harga Membuka\n",
    "- **High:** Harga Tertinggi\n",
    "- **Low:** Harga Terendah\n",
    "\n",
    "Anda dapat mengunduh dataset dan menyimpannya sebagai `gold_price_data.csv` dalam direktori yang sama dengan notebook ini."
   ]
  },
  {
   "cell_type": "markdown",
   "metadata": {},
   "source": [
    "## Model / Alur Penyelesaian\n",
    "\n",
    "1. **Pengumpulan Data:** Mengumpulkan data historis harga emas dari sumber terpercaya.\n",
    "2. **Pra-pemrosesan Data:** Membersihkan dan menyiapkan data untuk pelatihan model.\n",
    "3. **Pengembangan Model LSTM:** Mendesain dan melatih model LSTM dengan data yang telah diproses.\n",
    "4. **Evaluasi Model:** Menilai performa model menggunakan metrik evaluasi yang sesuai.\n",
    "5. **Perbandingan:** Membandingkan hasil prediksi model LSTM dengan metode prediksi tradisional.\n",
    "6. **Analisis:** Menganalisis faktor-faktor yang mempengaruhi hasil prediksi."
   ]
  },
  {
   "cell_type": "markdown",
   "metadata": {},
   "source": [
    "## Proses Learning / Modelling\n",
    "\n",
    "1. **Impor Library dan Unduh Data**\n",
    "   - Impor library yang diperlukan dan unduh dataset.\n",
    "\n",
    "2. **Normalisasi Data dan Pembuatan Lag Features**\n",
    "   - Lakukan normalisasi pada data harga dan tambahkan fitur lag.\n",
    "\n",
    "3. **Membangun Model LSTM**\n",
    "   - Mendesain arsitektur LSTM dan melatih model.\n",
    "\n",
    "4. **Evaluasi Model dan Visualisasi**\n",
    "   - Evaluasi performa model dan visualisasi hasil prediksi.\n",
    "\n",
    "### Diagram Perkembangan Harga Emas\n",
    "![LSTM Diagram](images/lstm_diagram.png)"
   ]
  },
  {
   "cell_type": "code",
   "execution_count": 1,
   "metadata": {},
   "outputs": [],
   "source": [
    "import pandas as pd\n",
    "from sklearn.preprocessing import MinMaxScaler\n",
    "\n",
    "# Unduh dataset CSV\n",
    "file_path = 'gold_price_data.csv'\n",
    "data_csv = pd.read_csv(file_path)\n",
    "\n",
    "# Tampilkan informasi dasar tentang data CSV\n",
    "data_csv.head()"
   ]
  },
  {
   "cell_type": "markdown",
   "metadata": {},
   "source": [
    "### 2. Membaca dan Menampilkan Data dari File Excel"
   ]
  },
  {
   "cell_type": "code",
   "execution_count": 2,
   "metadata": {},
   "outputs": [
    {
     "data": {
      "text/html": [
       "\n",
       "  <div>\n",
       "    <style scoped>\n",
       "      .dataframe tbody tr th:only-of-type {\n",
       "        vertical-align: middle;\n",
       "      }\n",
       "\n",
       "      .dataframe tbody tr th {\n",
       "        vertical-align: top;\n",
       "      }\n",
       "\n",
       "      .dataframe thead th {\n",
       "        text-align: right;\n",
       "      }\n",
       "    </style>\n",
       "    <table border=\"1\" class=\"dataframe\">\n",
       "      <thead>\n",
       "        <tr style=\"text-align: right;\">\n",
       "          <th></th>\n",
       "          <th>Date</th>\n",
       "          <th>Price</th>\n",
       "          <th>Open</th>\n",
       "          <th>High</th>\n",
       "          <th>Low</th>\n",
       "        </tr>\n",
       "      </thead>\n",
       "      <tbody>\n",
       "        <tr>\n",
       "          <th>0</th>\n",
       "          <td>2013-01-02</td>\n",
       "          <td>1674.07</td>\n",
       "          <td>1675.24</td>\n",
       "          <td>1681.64</td>\n",
       "          <td>1672.40</td>\n",
       "        </tr>\n",
       "        <tr>\n",
       "          <th>1</th>\n",
       "          <td>2013-01-03</td>\n",
       "          <td>1667.44</td>\n",
       "          <td>1674.07</td>\n",
       "          <td>1675.50</td>\n",
       "          <td>1660.34</td>\n",
       "        </tr>\n",
       "        <tr>\n",
       "          <th>2</th>\n",
       "          <td>2013-01-04</td>\n",
       "          <td>1656.38</td>\n",
       "          <td>1667.55</td>\n",
       "          <td>1670.97</td>\n",
       "          <td>1656.30</td>\n",
       "        </tr>\n",
       "        <tr>\n",
       "          <th>3</th>\n",
       "          <td>2013-01-07</td>\n",
       "          <td>1651.15</td>\n",
       "          <td>1656.28</td>\n",
       "          <td>1658.00</td>\n",
       "          <td>1647.18</td>\n",
       "        </tr>\n",
       "        <tr>\n",
       "          <th>4</th>\n",
       "          <td>2013-01-08</td>\n",
       "          <td>1659.98</td>\n",
       "          <td>1651.07</td>\n",
       "          <td>1663.00</td>\n",
       "          <td>1650.47</td>\n",
       "        </tr>\n",
       "      </tbody>\n",
       "    </table>\n",
       "  </div>\n",
       "  "
      ],
      "text/plain": [
       "         Date    Price    Open    High     Low\n",
       "0  2013-01-02  1674.07  1675.24  1681.64  1672.40\n",
       "1  2013-01-03  1667.44  1674.07  1675.50  1660.34\n",
       "2  2013-01-04  1656.38  1667.55  1670.97  1656.30\n",
       "3  2013-01-07  1651.15  1656.28  1658.00  1647.18\n",
       "4  2013-01-08  1659.98  1651.07  1663.00  1650.47"
      ]
     },
     "execution_count": 2,
     "metadata": {},
     "output_type": "execute_result"
    }
   ],
   "source": [
    "import pandas as pd\n",
    "\n",
    "# Baca dataset Excel\n",
    "file_path_excel = '/mnt/data/Gold Price (2013-2023).xlsx'\n",
    "data_excel = pd.read_excel(file_path_excel)\n",
    "\n",
    "# Tampilkan informasi dasar tentang data Excel\n",
    "data_excel.head()"
   ]
  },
  {
   "cell_type": "markdown",
   "metadata": {},
   "source": [
    "### Deskripsi Statistik"
   ]
  },
  {
   "cell_type": "code",
   "execution_count": 3,
   "metadata": {},
   "outputs": [],
   "source": [
    "data_excel.describe()"
   ]
  },
  {
   "cell_type": "markdown",
   "metadata": {},
   "source": [
    "### Normalisasi Data dan Pembuatan Lag Features"
   ]
  },
  {
   "cell_type": "code",
   "execution_count": 4,
   "metadata": {},
   "outputs": [],
   "source": [
    "# Normalisasi data harga\n",
    "scaler = MinMaxScaler(feature_range=(0, 1))\n",
    "data_excel['Scaled_Close'] = scaler.fit_transform(data_excel['Close'].values.reshape(-1, 1))\n",
    "\n",
    "# Pembuatan lag features\n",
    "def create_lag_features(df, n_lags):\n",
    "    for i in range(1, n_lags + 1):\n",
    "        df[f'lag_{i}'] = df['Scaled_Close'].shift(i)\n",
    "    df = df.dropna()\n",
    "    return df\n",
    "\n",
    "# Menambahkan fitur lag\n",
    "n_lags = 60\n",
    "data_with_lags = create_lag_features(data_excel, n_lags)\n",
    "\n",
    "# Pembagian data\n",
    "X = data_with_lags.drop('Scaled_Close', axis=1).values\n",
    "y = data_with_lags['Scaled_Close'].values\n",
    "train_size = int(len(X) * 0.8)\n",
    "X_train, X_test = X[:train_size], X[train_size:]\n",
    "y_train, y_test = y[:train_size], y[train_size:]\n",
    "\n",
    "# Membentuk data untuk LSTM\n",
    "X_train = X_train.reshape((X_train.shape[0], X_train.shape[1], 1))\n",
    "X_test = X_test.reshape((X_test.shape[0], X_test.shape[1], 1))\n"
   ]
  },
  {
   "cell_type": "markdown",
   "metadata": {},
   "source": [
    "### 3. Membangun Model LSTM"
   ]
  },
  {
   "cell_type": "code",
   "execution_count": 5,
   "metadata": {},
   "outputs": [],
   "source": [
    "from keras.models import Sequential\n",
    "from keras.layers import LSTM, Dense\n",
    "\n",
    "# Membuat model LSTM\n",
    "model = Sequential()\n",
    "model.add(LSTM(units=50, return_sequences=True, input_shape=(n_lags, 1)))\n",
    "model.add(LSTM(units=50))\n",
    "model.add(Dense(1))\n",
    "model.compile(optimizer='adam', loss='mean_squared_error')\n",
    "\n",
    "# Melatih model\n",
    "model.fit(X_train, y_train, epochs=100, batch_size=32)\n",
    "\n",
    "# Evaluasi model\n",
    "mse = model.evaluate(X_test, y_test)\n",
    "print(f'Mean Squared Error: {mse}')"
   ]
  },
  {
   "cell_type": "markdown",
   "metadata": {},
   "source": [
    "### 4. Evaluasi Model dan Visualisasi"
   ]
  },
  {
   "cell_type": "code",
   "execution_count": 6,
   "metadata": {},
   "outputs": [],
   "source": [
    "import matplotlib.pyplot as plt\n",
    "\n",
    "# Prediksi\n",
    "predictions = model.predict(X_test)\n",
    "predictions = scaler.inverse_transform(predictions)\n",
    "actual_prices = scaler.inverse_transform(y_test.reshape(-1, 1))\n",
    "\n",
    "# Plot hasil prediksi\n",
    "plt.figure(figsize=(14,5))\n",
    "plt.plot(actual_prices, color='blue', label='Harga Emas Aktual')\n",
    "plt.plot(predictions, color='red', label='Harga Emas Prediksi')\n",
    "plt.title('Prediksi Harga Emas Menggunakan LSTM')\n",
    "plt.xlabel('Waktu')\n",
    "plt.ylabel('Harga Emas')\n",
    "plt.legend()\n",
    "plt.show()"
   ]
  },
  {
   "cell_type": "markdown",
   "metadata": {},
   "source": [
    "## Diskusi Hasil dan Kesimpulan\n",
    "\n",
    "Penelitian ini berhasil mengembangkan model LSTM untuk memprediksi pergerakan harga emas dengan menggunakan data historis. Model LSTM yang diusulkan menunjukkan kemampuan yang cukup baik dalam menangkap pola dan tren dalam harga emas, mengingat kompleksitas dan volatilitas pasar. Berdasarkan hasil evaluasi model, metrik seperti Mean Squared Error (MSE) menunjukkan bahwa model LSTM memiliki performa yang lebih baik dibandingkan dengan metode prediksi tradisional seperti ARIMA dan Moving Average. Ini menunjukkan bahwa model LSTM dapat lebih efektif dalam memprediksi fluktuasi harga emas yang tidak selalu linear dan sering dipengaruhi oleh faktor-faktor jangka panjang.\n",
    "\n",
    "Model LSTM juga memperlihatkan kemampuannya dalam mengatasi masalah deret waktu yang memerlukan pemahaman tentang dependensi jangka panjang, yang merupakan salah satu keunggulan utama dari arsitektur LSTM. Hasil ini mengindikasikan bahwa pendekatan berbasis LSTM dapat menawarkan keuntungan signifikan dalam analisis harga emas, terutama dalam konteks pasar yang dinamis dan tidak stabil.\n",
    "\n",
    "Namun, penelitian ini juga menemukan bahwa akurasi prediksi masih bisa dipengaruhi oleh berbagai faktor eksternal, seperti kondisi geopolitik dan perubahan kebijakan ekonomi yang mendalam. Faktor-faktor ini belum sepenuhnya dimodelkan dalam penelitian ini, dan bisa menjadi area untuk pengembangan lebih lanjut. Selain itu, analisis sentimen dari data berita dan teks terkait harga emas memberikan wawasan tambahan yang dapat diintegrasikan lebih lanjut untuk meningkatkan kinerja model.\n",
    "\n",
    "Secara keseluruhan, penelitian ini menegaskan potensi besar dari model LSTM dalam prediksi harga emas, memberikan alat yang lebih baik untuk investor dan pelaku pasar dalam menghadapi ketidakpastian pasar. Hasil penelitian menunjukkan bahwa model ini tidak hanya lebih akurat dalam konteks data historis tetapi juga menawarkan kemungkinan untuk adaptasi dan peningkatan berkelanjutan dengan integrasi fitur tambahan dan data eksternal. Untuk penelitian mendatang, disarankan agar dilakukan eksplorasi lebih lanjut mengenai pengaruh faktor-faktor ekonomi global dan regional, serta pengujian model dengan data dari sumber lain untuk memastikan generalisasi dan robustness dari model. Penelitian ini diharapkan dapat menjadi landasan untuk studi lebih lanjut yang lebih mendalam dan aplikatif dalam domain prediksi harga komoditas."
   ]
  }
 ],
 "metadata": {
  "kernelspec": {
   "display_name": "Python 3 (ipykernel)",
   "language": "python",
   "name": "python3"
  },
  "language_info": {
   "codemirror_mode": {
    "name": "ipython",
    "version": 3
   },
   "file_extension": ".py",
   "mimetype": "text/x-python",
   "name": "python",
   "nbconvert_exporter": "python",
   "pygments_lexer": "ipython3",
   "version": "3.9.13"
  }
 },
 "nbformat": 4,
 "nbformat_minor": 5
}
